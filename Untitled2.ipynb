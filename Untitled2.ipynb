{
  "nbformat": 4,
  "nbformat_minor": 0,
  "metadata": {
    "colab": {
      "provenance": []
    },
    "kernelspec": {
      "name": "python3",
      "display_name": "Python 3"
    },
    "language_info": {
      "name": "python"
    }
  },
  "cells": [
    {
      "cell_type": "code",
      "execution_count": 10,
      "metadata": {
        "colab": {
          "base_uri": "https://localhost:8080/"
        },
        "id": "3ymgHpguWY0n",
        "outputId": "170dab66-c209-4bab-aee1-017d895779e8"
      },
      "outputs": [
        {
          "output_type": "stream",
          "name": "stdout",
          "text": [
            "Ввидите стоимость конфет 10\n",
            "1\n",
            "Сумма конфет кг 10\n",
            "Сумма конфет кг 20\n",
            "Сумма конфет кг 30\n",
            "Сумма конфет кг 40\n",
            "Сумма конфет кг 50\n",
            "Сумма конфет кг 60\n",
            "Сумма конфет кг 70\n",
            "Сумма конфет кг 80\n",
            "Сумма конфет кг 90\n",
            "Сумма конфет кг 100\n"
          ]
        }
      ],
      "source": [
        "n=int(input(\"Ввидите стоимость конфет \"))\n",
        "x=1\n",
        "s=0\n",
        "print(x)\n",
        "for i in range(10):\n",
        "\n",
        "     x = (i + 1) * n\n",
        "     print(\"Сумма конфет кг\",x)"
      ]
    },
    {
      "cell_type": "code",
      "source": [
        "n=int(input())\n",
        "s=k=0\n",
        "while n!=0:\n",
        "   s+=n\n",
        "   k+=1\n",
        "   n=int(input())\n",
        "print(\"сумма=\",s,\"количество =\",k)"
      ],
      "metadata": {
        "colab": {
          "base_uri": "https://localhost:8080/"
        },
        "id": "iDfKekrhbWNd",
        "outputId": "dab6bd70-7e9a-44de-cf14-d2e58792353c"
      },
      "execution_count": 14,
      "outputs": [
        {
          "output_type": "stream",
          "name": "stdout",
          "text": [
            "1\n",
            "2\n",
            "3\n",
            "0\n",
            "сумма= 6 количество = 3\n"
          ]
        }
      ]
    }
  ]
}